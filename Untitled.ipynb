{
 "cells": [
  {
   "cell_type": "markdown",
   "metadata": {},
   "source": [
    "### String Reversal"
   ]
  },
  {
   "cell_type": "code",
   "execution_count": 33,
   "metadata": {},
   "outputs": [],
   "source": [
    "def string_reversal(string):\n",
    "    return string[::-1]\n",
    "\n",
    "def list_reversal(lst):\n",
    "    lst.reverse()\n",
    "    return lst"
   ]
  },
  {
   "cell_type": "code",
   "execution_count": 34,
   "metadata": {},
   "outputs": [
    {
     "name": "stdout",
     "output_type": "stream",
     "text": [
      "String Reversal !uoy teem ot ecin ,olleh\n",
      "List Reversal [4, 3, 2, 1, 0]\n"
     ]
    }
   ],
   "source": [
    "if __name__ == '__main__':\n",
    "    string = 'hello, nice to meet you!'\n",
    "    lst = [0,1,2,3,4]\n",
    "    print('String Reversal',string_reversal(string))\n",
    "    print('List Reversal',list_reversal(lst))"
   ]
  },
  {
   "cell_type": "markdown",
   "metadata": {},
   "source": []
  },
  {
   "cell_type": "code",
   "execution_count": 38,
   "metadata": {},
   "outputs": [],
   "source": [
    "string = {'h':1, 'e':2}"
   ]
  },
  {
   "cell_type": "code",
   "execution_count": 40,
   "metadata": {},
   "outputs": [
    {
     "name": "stdout",
     "output_type": "stream",
     "text": [
      "2\n"
     ]
    }
   ],
   "source": [
    "print(string['e'])"
   ]
  },
  {
   "cell_type": "code",
   "execution_count": 54,
   "metadata": {},
   "outputs": [],
   "source": [
    "string = 'hello'"
   ]
  },
  {
   "cell_type": "code",
   "execution_count": 42,
   "metadata": {},
   "outputs": [],
   "source": [
    "str_arr = list(string)"
   ]
  },
  {
   "cell_type": "code",
   "execution_count": 43,
   "metadata": {},
   "outputs": [
    {
     "name": "stdout",
     "output_type": "stream",
     "text": [
      "['h', 'e', 'l', 'l', 'o']\n"
     ]
    }
   ],
   "source": [
    "print(str_arr)"
   ]
  },
  {
   "cell_type": "code",
   "execution_count": 64,
   "metadata": {},
   "outputs": [],
   "source": [
    "dic = {}"
   ]
  },
  {
   "cell_type": "code",
   "execution_count": 45,
   "metadata": {},
   "outputs": [],
   "source": [
    "dic['h'] = 1"
   ]
  },
  {
   "cell_type": "code",
   "execution_count": 52,
   "metadata": {},
   "outputs": [
    {
     "name": "stdout",
     "output_type": "stream",
     "text": [
      "{'h': 1, 'e': 2}\n"
     ]
    }
   ],
   "source": [
    "print(dic)"
   ]
  },
  {
   "cell_type": "code",
   "execution_count": 47,
   "metadata": {},
   "outputs": [],
   "source": [
    "dic[string[1]] = 2"
   ]
  },
  {
   "cell_type": "code",
   "execution_count": 65,
   "metadata": {},
   "outputs": [
    {
     "name": "stdout",
     "output_type": "stream",
     "text": [
      "{'h': 1}\n",
      "{'h': 1, 'e': 1}\n",
      "{'h': 1, 'e': 1, 'l': 1}\n",
      "l\n",
      "{'h': 1, 'e': 1, 'l': 1}\n",
      "{'h': 1, 'e': 1, 'l': 1, 'o': 1}\n"
     ]
    }
   ],
   "source": [
    "for char in string:\n",
    "    if char in dic:\n",
    "        ++dic[char]\n",
    "        print(char)\n",
    "    else:\n",
    "        dic[char]=1\n",
    "    print(dic)"
   ]
  },
  {
   "cell_type": "code",
   "execution_count": 84,
   "metadata": {},
   "outputs": [],
   "source": [
    "string = 'hello'\n",
    "charMap = {}\n",
    "\n",
    "for char in string:\n",
    "    if not char in charMap:\n",
    "        charMap[char] = 1\n",
    "    else:\n",
    "        charMap[char] = charMap[char]+1"
   ]
  },
  {
   "cell_type": "code",
   "execution_count": 85,
   "metadata": {},
   "outputs": [
    {
     "name": "stdout",
     "output_type": "stream",
     "text": [
      "{'h': 1, 'e': 1, 'l': 2, 'o': 1}\n"
     ]
    }
   ],
   "source": [
    "print(charMap)"
   ]
  },
  {
   "cell_type": "code",
   "execution_count": 86,
   "metadata": {},
   "outputs": [
    {
     "name": "stdout",
     "output_type": "stream",
     "text": [
      "h\n",
      "e\n",
      "l\n",
      "o\n"
     ]
    }
   ],
   "source": [
    "for m in charMap:\n",
    "    print(m)"
   ]
  },
  {
   "cell_type": "code",
   "execution_count": 106,
   "metadata": {},
   "outputs": [],
   "source": [
    "def chunk(array,size):\n",
    "    temp_array = []\n",
    "    chunked = []\n",
    "    for n in range(len(array)+1):\n",
    "        if n == len(array):\n",
    "            chunked.append(temp_array)\n",
    "        elif len(temp_array)<size:\n",
    "            temp_array.append(array[n])\n",
    "        else: \n",
    "            chunked.append(temp_array)\n",
    "            temp_array = []\n",
    "            temp_array.append(array[n])\n",
    "    print(chunked)"
   ]
  },
  {
   "cell_type": "code",
   "execution_count": 111,
   "metadata": {},
   "outputs": [
    {
     "name": "stdout",
     "output_type": "stream",
     "text": [
      "[[1, 2, 3, 4, 5]]\n"
     ]
    }
   ],
   "source": [
    "\n",
    "array = [1,2,3,4,5]\n",
    "chunk(array,10)"
   ]
  },
  {
   "cell_type": "code",
   "execution_count": 133,
   "metadata": {},
   "outputs": [
    {
     "name": "stdout",
     "output_type": "stream",
     "text": [
      "no\n"
     ]
    }
   ],
   "source": [
    "import re\n",
    "string = 'helo1&'\n",
    "if re.match('^[a-zA-Z0-9_]+$',string):\n",
    "    print('yes')\n",
    "else:\n",
    "    print('no')"
   ]
  },
  {
   "cell_type": "code",
   "execution_count": 148,
   "metadata": {},
   "outputs": [
    {
     "name": "stdout",
     "output_type": "stream",
     "text": [
      "h\n",
      "e\n",
      "l\n",
      "o\n",
      "to be replace !\n",
      "replaced helo\n",
      "helo\n"
     ]
    }
   ],
   "source": [
    "string = 'helo!'\n",
    "for a in string:\n",
    "    if re.match('^\\W+$',a):\n",
    "        print('to be replace',a)\n",
    "        string = string.replace(a,'')\n",
    "        print('replaced',string)\n",
    "    else:\n",
    "        print(a)\n",
    "print(string)\n",
    "    \n",
    "# string = string.replace(re.match('^\\w+$',string),'')\n",
    "# print(string)"
   ]
  },
  {
   "cell_type": "code",
   "execution_count": 163,
   "metadata": {},
   "outputs": [
    {
     "name": "stdout",
     "output_type": "stream",
     "text": [
      "['h', 'e', 'l', 'l', 'o']\n"
     ]
    }
   ],
   "source": [
    "s = 'hello'\n",
    "l = list(s)\n",
    "print(l)"
   ]
  },
  {
   "cell_type": "code",
   "execution_count": 166,
   "metadata": {},
   "outputs": [],
   "source": [
    "l=sorted(l)"
   ]
  },
  {
   "cell_type": "code",
   "execution_count": 180,
   "metadata": {},
   "outputs": [
    {
     "name": "stdout",
     "output_type": "stream",
     "text": [
      "['e', 'h', 'l', 'l', 'o']\n"
     ]
    }
   ],
   "source": [
    "print(l)"
   ]
  },
  {
   "cell_type": "code",
   "execution_count": 187,
   "metadata": {},
   "outputs": [
    {
     "name": "stdout",
     "output_type": "stream",
     "text": [
      "ehllo\n"
     ]
    }
   ],
   "source": [
    "st = ''\n",
    "for a in l:\n",
    "#     st = st.join(a)\n",
    "    st = st + '' +a\n",
    "print(st)"
   ]
  },
  {
   "cell_type": "code",
   "execution_count": 190,
   "metadata": {},
   "outputs": [
    {
     "name": "stdout",
     "output_type": "stream",
     "text": [
      "ehllo\n"
     ]
    }
   ],
   "source": [
    "print(''.join(l))"
   ]
  },
  {
   "cell_type": "code",
   "execution_count": 170,
   "metadata": {},
   "outputs": [
    {
     "data": {
      "text/plain": [
       "[2, 6, 8, 10, 2]"
      ]
     },
     "execution_count": 170,
     "metadata": {},
     "output_type": "execute_result"
    }
   ],
   "source": [
    "def list_doubler(lst):\n",
    "    doubled = [num * 2 for num in lst]\n",
    "    return doubled\n",
    "list_doubler([1,3,4,5,1])"
   ]
  },
  {
   "cell_type": "code",
   "execution_count": 195,
   "metadata": {},
   "outputs": [
    {
     "name": "stdout",
     "output_type": "stream",
     "text": [
      "elo\n"
     ]
    }
   ],
   "source": [
    "string = 'helo'\n",
    "print(string[1:])"
   ]
  },
  {
   "cell_type": "code",
   "execution_count": 202,
   "metadata": {},
   "outputs": [
    {
     "name": "stdout",
     "output_type": "stream",
     "text": [
      "#ssss\n",
      "##sss\n",
      "###ss\n",
      "####s\n",
      "#####\n"
     ]
    }
   ],
   "source": [
    "n=5\n",
    "for i in range(1,n+1):\n",
    "    print(\"#\"*i+'s'*(n-i))"
   ]
  },
  {
   "cell_type": "code",
   "execution_count": 236,
   "metadata": {},
   "outputs": [],
   "source": [
    "number = 0\n",
    "matrix = [[0]*3 for i in range(size)]\n",
    "for row in range(size):\n",
    "    for col in range(size):\n",
    "        if col < size:\n",
    "            number += 1\n",
    "            matrix[row][col] = number\n",
    "            col += 1\n",
    "        \n",
    "        "
   ]
  },
  {
   "cell_type": "code",
   "execution_count": 237,
   "metadata": {},
   "outputs": [
    {
     "name": "stdout",
     "output_type": "stream",
     "text": [
      "[[1, 2, 3], [4, 5, 6], [7, 8, 9]]\n"
     ]
    }
   ],
   "source": [
    "print(matrix)"
   ]
  },
  {
   "cell_type": "code",
   "execution_count": null,
   "metadata": {},
   "outputs": [],
   "source": []
  }
 ],
 "metadata": {
  "kernelspec": {
   "display_name": "Python 3",
   "language": "python",
   "name": "python3"
  },
  "language_info": {
   "codemirror_mode": {
    "name": "ipython",
    "version": 3
   },
   "file_extension": ".py",
   "mimetype": "text/x-python",
   "name": "python",
   "nbconvert_exporter": "python",
   "pygments_lexer": "ipython3",
   "version": "3.8.3"
  }
 },
 "nbformat": 4,
 "nbformat_minor": 4
}
